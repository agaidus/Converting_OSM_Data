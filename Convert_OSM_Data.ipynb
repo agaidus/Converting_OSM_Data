{
 "cells": [
  {
   "cell_type": "markdown",
   "metadata": {},
   "source": [
    "# Extracting and Converting OpenStreetMap data in Python\n",
    "OpenStreetMap is an open source collaborative mapping project that has tons of really valuable and freely available data. However, in order to use it in most applications it needs to be converted to another format. If working with large amounts of data, the best approach is to use a tool such as ```imposm``` or ```osm2pgsql```, both of which first import the data into a PostgreSQL/PostGIS database. From there the data can be queried or exported. However, if working with smaller amounts of data where a spatial database is not necessary, there is a quick and easy way to extract data from an OSM file (XML based) using a driver in the Python OGR library. I demonstrate this approach below using a sample of data in my neighborhood in San Francisco. \n",
    "\n",
    "The OSM file that I use in this example can be downloaded from the following link on the OpenStreetMap website (http://www.openstreetmap.org/export#map=17/37.78292/-122.46336). The area I downloaded represents the Inner Richmond neighborhood, roughly between 6th and 3rd Avenues, along Geary and Clement.\n",
    "\n",
    "Below, I go through an example where I read in the points layer from the OSM data using the OGR driver, extract relevant attributes and location, convert the data to a GeoPandas GeoDataFrame, and then plot it on a map.\n",
    "\n",
    "First I import the necessary modules - ``ogr`` is used to read in the OSM data, ```shapely``` is used to convert the geometries, ```geopandas``` is used to store the data and geometry, and ```matplotlib``` is used to plot it. "
   ]
  },
  {
   "cell_type": "code",
   "execution_count": null,
   "metadata": {
    "collapsed": true
   },
   "outputs": [],
   "source": [
    "osm = \"\"\"\n",
    "<iframe width=\"500\" height=\"400\" frameborder=\"0\" scrolling=\"no\" marginheight=\"0\" marginwidth=\"0\" \\\n",
    "src=\"http://www.openstreetmap.org/export/embed.html?bbox=\\\n",
    "-122.47178%2C37.77859%2C-122.45493%2C37.78724&amp;layer=mapnik\" \\\n",
    "style=\"border: 1px solid black\"></iframe><br/><small><a \\\n",
    "href=\"http://www.openstreetmap.org/#map=17/37.78292/-122.46336\">View Larger Map</a></small>\n",
    "\"\"\"\n",
    "display.HTML(osm)"
   ]
  },
  {
   "cell_type": "markdown",
   "metadata": {},
   "source": []
  },
  {
   "cell_type": "code",
   "execution_count": 6,
   "metadata": {
    "collapsed": true
   },
   "outputs": [],
   "source": [
    "%matplotlib inline\n",
    "import ogr\n",
    "import shapely\n",
    "from shapely.geometry import *\n",
    "import geopandas as gpd\n",
    "import matplotlib.pyplot as plt"
   ]
  },
  {
   "cell_type": "markdown",
   "metadata": {},
   "source": [
    "I then define the relevant OGR driver, which in this case is called \"OSM\". I use that driver to open my OSM file, which categorizes the features into 5 layers:\n",
    "\n",
    "1. **points** : \"node\" features\n",
    "2. **lines** : \"way\" features that are recognized as non-area.\n",
    "3. **multilinestrings** : \"relation\" features that form a multilinestring\n",
    "4. **multipolygons** : \"relation\" features that form a multipolygon and \"way\" features that are recognized as area.\n",
    "5. **other_relations** : \"relation\" features that do not belong to the above 2 layers.\n",
    "\n",
    "I use the ```GetLayer``` method to extract the \"points\" layer and iterate over the features in this layer, storing them in a list. As shown below, there are 39 features in this point layer."
   ]
  },
  {
   "cell_type": "code",
   "execution_count": 17,
   "metadata": {
    "collapsed": false
   },
   "outputs": [
    {
     "name": "stdout",
     "output_type": "stream",
     "text": [
      "39\n"
     ]
    }
   ],
   "source": [
    "driver=ogr.GetDriverByName('OSM')\n",
    "data = driver.Open('inner_richmond.osm')\n",
    "layer = data.GetLayer('points')\n",
    "\n",
    "features=[x for x in layer]\n",
    "print len(features)"
   ]
  },
  {
   "cell_type": "markdown",
   "metadata": {},
   "source": [
    "Next I loop through each of these point features and extract some attributes, including the location. I convert the feature attributes to JSON and extract the feature name; the feature 'Highway' properties (relevant for bus stops, traffic signals, etc); the \"Amenity\" description (if relevant); and the lat/long coordinates. I use the coordinates to create ```shapely``` geometry objects and build a GeoDataFrame with the extracted data. Depending on the attributes of interest, you may need to tweak this code to obtain other information within the \"other_tags\" category."
   ]
  },
  {
   "cell_type": "code",
   "execution_count": 7,
   "metadata": {
    "collapsed": false
   },
   "outputs": [],
   "source": [
    "data_list=[]\n",
    "for feature in features:\n",
    "    data=feature.ExportToJson(as_object=True)\n",
    "    coords=data['geometry']['coordinates']\n",
    "    shapely_geo=Point(coords[0],coords[1])\n",
    "    name=data['properties']['name']\n",
    "    highway=data['properties']['highway']\n",
    "    other_tags=data['properties']['other_tags']\n",
    "    if other_tags and 'amenity' in other_tags:\n",
    "        feat=[x for x in other_tags.split(',') if 'amenity' in x][0]\n",
    "        amenity=feat[feat.rfind('>')+2:feat.rfind('\"')]\n",
    "    else:\n",
    "        amenity=None\n",
    "    data_list.append([name,highway,amenity,shapely_geo])\n",
    "gdf=gpd.GeoDataFrame(data_list,columns=['Name','Highway','Amenity','geometry'],crs={'init': 'epsg:4326'}).to_crs(epsg=3310)"
   ]
  },
  {
   "cell_type": "code",
   "execution_count": 12,
   "metadata": {
    "collapsed": false
   },
   "outputs": [
    {
     "data": {
      "text/html": [
       "<div>\n",
       "<table border=\"1\" class=\"dataframe\">\n",
       "  <thead>\n",
       "    <tr style=\"text-align: right;\">\n",
       "      <th></th>\n",
       "      <th>Name</th>\n",
       "      <th>Highway</th>\n",
       "      <th>Amenity</th>\n",
       "      <th>geometry</th>\n",
       "    </tr>\n",
       "  </thead>\n",
       "  <tbody>\n",
       "    <tr>\n",
       "      <th>34</th>\n",
       "      <td>8th Avenue</td>\n",
       "      <td>bus_stop</td>\n",
       "      <td>None</td>\n",
       "      <td>POINT (-216757.5129094814 -22895.74381802278)</td>\n",
       "    </tr>\n",
       "    <tr>\n",
       "      <th>35</th>\n",
       "      <td>Best and Fresh Food</td>\n",
       "      <td>None</td>\n",
       "      <td>None</td>\n",
       "      <td>POINT (-216785.1594229685 -23117.45584711386)</td>\n",
       "    </tr>\n",
       "    <tr>\n",
       "      <th>36</th>\n",
       "      <td>None</td>\n",
       "      <td>None</td>\n",
       "      <td>None</td>\n",
       "      <td>POINT (-216742.9049959361 -23116.90880399616)</td>\n",
       "    </tr>\n",
       "    <tr>\n",
       "      <th>37</th>\n",
       "      <td>May Shun Trading</td>\n",
       "      <td>None</td>\n",
       "      <td>None</td>\n",
       "      <td>POINT (-216809.4551698703 -23116.59043585416)</td>\n",
       "    </tr>\n",
       "    <tr>\n",
       "      <th>38</th>\n",
       "      <td>Grain D'or</td>\n",
       "      <td>None</td>\n",
       "      <td>restaurant</td>\n",
       "      <td>POINT (-216493.3926737724 -23108.28007747373)</td>\n",
       "    </tr>\n",
       "  </tbody>\n",
       "</table>\n",
       "</div>"
      ],
      "text/plain": [
       "                   Name   Highway     Amenity  \\\n",
       "34           8th Avenue  bus_stop        None   \n",
       "35  Best and Fresh Food      None        None   \n",
       "36                 None      None        None   \n",
       "37     May Shun Trading      None        None   \n",
       "38           Grain D'or      None  restaurant   \n",
       "\n",
       "                                         geometry  \n",
       "34  POINT (-216757.5129094814 -22895.74381802278)  \n",
       "35  POINT (-216785.1594229685 -23117.45584711386)  \n",
       "36  POINT (-216742.9049959361 -23116.90880399616)  \n",
       "37  POINT (-216809.4551698703 -23116.59043585416)  \n",
       "38  POINT (-216493.3926737724 -23108.28007747373)  "
      ]
     },
     "execution_count": 12,
     "metadata": {},
     "output_type": "execute_result"
    }
   ],
   "source": [
    "gdf.tail()"
   ]
  },
  {
   "cell_type": "markdown",
   "metadata": {},
   "source": [
    "I can then easily manipulate or query the data any way I normally would using Pandas/GeoPandas. Below, I extract the features that represent coffee shops or bars and plot them on a map using ```matplotlib```. If the data is needed in another format (shapefile, geojson, etc) it can easily be exported using the ```GeoDataFrame.to_file()``` method."
   ]
  },
  {
   "cell_type": "code",
   "execution_count": 14,
   "metadata": {
    "collapsed": false
   },
   "outputs": [
    {
     "data": {
      "text/html": [
       "<div>\n",
       "<table border=\"1\" class=\"dataframe\">\n",
       "  <thead>\n",
       "    <tr style=\"text-align: right;\">\n",
       "      <th></th>\n",
       "      <th>Name</th>\n",
       "      <th>Highway</th>\n",
       "      <th>Amenity</th>\n",
       "      <th>geometry</th>\n",
       "    </tr>\n",
       "  </thead>\n",
       "  <tbody>\n",
       "    <tr>\n",
       "      <th>18</th>\n",
       "      <td>Cafe Coco</td>\n",
       "      <td>None</td>\n",
       "      <td>cafe</td>\n",
       "      <td>POINT (-216737.0424637551 -23366.19233996468)</td>\n",
       "    </tr>\n",
       "    <tr>\n",
       "      <th>21</th>\n",
       "      <td>Blue Danube Coffee House</td>\n",
       "      <td>None</td>\n",
       "      <td>cafe</td>\n",
       "      <td>POINT (-216562.6742979415 -23112.86356830364)</td>\n",
       "    </tr>\n",
       "    <tr>\n",
       "      <th>25</th>\n",
       "      <td>Rockit Room</td>\n",
       "      <td>None</td>\n",
       "      <td>bar</td>\n",
       "      <td>POINT (-216668.2580983618 -23113.41150188772)</td>\n",
       "    </tr>\n",
       "    <tr>\n",
       "      <th>26</th>\n",
       "      <td>The Bitter End</td>\n",
       "      <td>None</td>\n",
       "      <td>pub</td>\n",
       "      <td>POINT (-216689.4750393766 -23143.02973108692)</td>\n",
       "    </tr>\n",
       "    <tr>\n",
       "      <th>28</th>\n",
       "      <td>Ireland's 32</td>\n",
       "      <td>None</td>\n",
       "      <td>pub</td>\n",
       "      <td>POINT (-216469.8690838547 -23316.07564048655)</td>\n",
       "    </tr>\n",
       "  </tbody>\n",
       "</table>\n",
       "</div>"
      ],
      "text/plain": [
       "                        Name Highway Amenity  \\\n",
       "18                 Cafe Coco    None    cafe   \n",
       "21  Blue Danube Coffee House    None    cafe   \n",
       "25               Rockit Room    None     bar   \n",
       "26            The Bitter End    None     pub   \n",
       "28              Ireland's 32    None     pub   \n",
       "\n",
       "                                         geometry  \n",
       "18  POINT (-216737.0424637551 -23366.19233996468)  \n",
       "21  POINT (-216562.6742979415 -23112.86356830364)  \n",
       "25  POINT (-216668.2580983618 -23113.41150188772)  \n",
       "26  POINT (-216689.4750393766 -23143.02973108692)  \n",
       "28  POINT (-216469.8690838547 -23316.07564048655)  "
      ]
     },
     "execution_count": 14,
     "metadata": {},
     "output_type": "execute_result"
    }
   ],
   "source": [
    "cafe_bar=gdf[gdf.Amenity.isin(['cafe','pub','bar'])]\n",
    "cafe_bar"
   ]
  },
  {
   "cell_type": "code",
   "execution_count": 16,
   "metadata": {
    "collapsed": false
   },
   "outputs": [
    {
     "data": {
      "image/png": "[encoded data removed]",
      "text/plain": [
       "<matplotlib.figure.Figure at 0x84cdfd0>"
      ]
     },
     "metadata": {},
     "output_type": "display_data"
    }
   ],
   "source": [
    "fig, ax = plt.subplots(figsize=(10,10))\n",
    "for i,row in cafe_bar.iterrows():\n",
    "    x=row['geometry'].x\n",
    "    y=row['geometry'].y\n",
    "    plt.annotate(row['Name'], xy=(x,y), size=13, xytext=(0,5), textcoords='offset points')\n",
    "    plt.plot(x,y,'o', color='#f16824')\n",
    "    ax.set(aspect=1)\n",
    "title=plt.title('Inner Richmond Bars and Cafes',size=16)"
   ]
  },
  {
   "cell_type": "markdown",
   "metadata": {},
   "source": [
    "And there you have it! Again, with large datasets it would be more appropriate to use a tool that directly imports the OSM data into a spatial database. However, this is a really quick and easy way to extract smaller amounts of data if needed!"
   ]
  }
 ],
 "metadata": {
  "kernelspec": {
   "display_name": "Python 2",
   "language": "python",
   "name": "python2"
  },
  "language_info": {
   "codemirror_mode": {
    "name": "ipython",
    "version": 2
   },
   "file_extension": ".py",
   "mimetype": "text/x-python",
   "name": "python",
   "nbconvert_exporter": "python",
   "pygments_lexer": "ipython2",
   "version": "2.7.11"
  }
 },
 "nbformat": 4,
 "nbformat_minor": 0
}
